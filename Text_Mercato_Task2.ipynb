{
  "nbformat": 4,
  "nbformat_minor": 0,
  "metadata": {
    "colab": {
      "name": "Text_Mercato_Task2.ipynb",
      "provenance": [],
      "collapsed_sections": [],
      "authorship_tag": "ABX9TyNKPKOV+HPwSR5b5YI83X5O",
      "include_colab_link": true
    },
    "kernelspec": {
      "name": "python3",
      "display_name": "Python 3"
    }
  },
  "cells": [
    {
      "cell_type": "markdown",
      "metadata": {
        "id": "view-in-github",
        "colab_type": "text"
      },
      "source": [
        "<a href=\"https://colab.research.google.com/github/mishraabhyuday/Text_Mercato_Task/blob/main/Text_Mercato_Task2.ipynb\" target=\"_parent\"><img src=\"https://colab.research.google.com/assets/colab-badge.svg\" alt=\"Open In Colab\"/></a>"
      ]
    },
    {
      "cell_type": "markdown",
      "metadata": {
        "id": "O504eTcJFNlx"
      },
      "source": [
        "1. Name : Abhyuday Mishra\r\n",
        "2. Email: mishraabhyuday.mishra@gmail.com"
      ]
    },
    {
      "cell_type": "code",
      "metadata": {
        "id": "FKq2jT-JFP1M"
      },
      "source": [
        "\r\n",
        "from tensorflow.keras.applications.imagenet_utils import preprocess_input\r\n",
        "from tensorflow.keras.applications import VGG19, inception_v3, imagenet_utils\r\n",
        "from tensorflow.keras.preprocessing.image import img_to_array, load_img, ImageDataGenerator\r\n",
        "\r\n",
        "import numpy as np\r\n",
        "import os"
      ],
      "execution_count": null,
      "outputs": []
    },
    {
      "cell_type": "code",
      "metadata": {
        "colab": {
          "base_uri": "https://localhost:8080/"
        },
        "id": "bYM6udBpSEx9",
        "outputId": "717865b3-adb6-41a5-a463-562794c98812"
      },
      "source": [
        "model = VGG19()"
      ],
      "execution_count": 2,
      "outputs": [
        {
          "output_type": "stream",
          "text": [
            "Downloading data from https://storage.googleapis.com/tensorflow/keras-applications/vgg19/vgg19_weights_tf_dim_ordering_tf_kernels.h5\n",
            "574717952/574710816 [==============================] - 4s 0us/step\n"
          ],
          "name": "stdout"
        }
      ]
    },
    {
      "cell_type": "code",
      "metadata": {
        "colab": {
          "base_uri": "https://localhost:8080/"
        },
        "id": "J5tWlrCDSGAk",
        "outputId": "3eec99a9-5f63-434d-d8ad-86e2c1226f68"
      },
      "source": [
        "model.summary()"
      ],
      "execution_count": 3,
      "outputs": [
        {
          "output_type": "stream",
          "text": [
            "Model: \"vgg19\"\n",
            "_________________________________________________________________\n",
            "Layer (type)                 Output Shape              Param #   \n",
            "=================================================================\n",
            "input_1 (InputLayer)         [(None, 224, 224, 3)]     0         \n",
            "_________________________________________________________________\n",
            "block1_conv1 (Conv2D)        (None, 224, 224, 64)      1792      \n",
            "_________________________________________________________________\n",
            "block1_conv2 (Conv2D)        (None, 224, 224, 64)      36928     \n",
            "_________________________________________________________________\n",
            "block1_pool (MaxPooling2D)   (None, 112, 112, 64)      0         \n",
            "_________________________________________________________________\n",
            "block2_conv1 (Conv2D)        (None, 112, 112, 128)     73856     \n",
            "_________________________________________________________________\n",
            "block2_conv2 (Conv2D)        (None, 112, 112, 128)     147584    \n",
            "_________________________________________________________________\n",
            "block2_pool (MaxPooling2D)   (None, 56, 56, 128)       0         \n",
            "_________________________________________________________________\n",
            "block3_conv1 (Conv2D)        (None, 56, 56, 256)       295168    \n",
            "_________________________________________________________________\n",
            "block3_conv2 (Conv2D)        (None, 56, 56, 256)       590080    \n",
            "_________________________________________________________________\n",
            "block3_conv3 (Conv2D)        (None, 56, 56, 256)       590080    \n",
            "_________________________________________________________________\n",
            "block3_conv4 (Conv2D)        (None, 56, 56, 256)       590080    \n",
            "_________________________________________________________________\n",
            "block3_pool (MaxPooling2D)   (None, 28, 28, 256)       0         \n",
            "_________________________________________________________________\n",
            "block4_conv1 (Conv2D)        (None, 28, 28, 512)       1180160   \n",
            "_________________________________________________________________\n",
            "block4_conv2 (Conv2D)        (None, 28, 28, 512)       2359808   \n",
            "_________________________________________________________________\n",
            "block4_conv3 (Conv2D)        (None, 28, 28, 512)       2359808   \n",
            "_________________________________________________________________\n",
            "block4_conv4 (Conv2D)        (None, 28, 28, 512)       2359808   \n",
            "_________________________________________________________________\n",
            "block4_pool (MaxPooling2D)   (None, 14, 14, 512)       0         \n",
            "_________________________________________________________________\n",
            "block5_conv1 (Conv2D)        (None, 14, 14, 512)       2359808   \n",
            "_________________________________________________________________\n",
            "block5_conv2 (Conv2D)        (None, 14, 14, 512)       2359808   \n",
            "_________________________________________________________________\n",
            "block5_conv3 (Conv2D)        (None, 14, 14, 512)       2359808   \n",
            "_________________________________________________________________\n",
            "block5_conv4 (Conv2D)        (None, 14, 14, 512)       2359808   \n",
            "_________________________________________________________________\n",
            "block5_pool (MaxPooling2D)   (None, 7, 7, 512)         0         \n",
            "_________________________________________________________________\n",
            "flatten (Flatten)            (None, 25088)             0         \n",
            "_________________________________________________________________\n",
            "fc1 (Dense)                  (None, 4096)              102764544 \n",
            "_________________________________________________________________\n",
            "fc2 (Dense)                  (None, 4096)              16781312  \n",
            "_________________________________________________________________\n",
            "predictions (Dense)          (None, 1000)              4097000   \n",
            "=================================================================\n",
            "Total params: 143,667,240\n",
            "Trainable params: 143,667,240\n",
            "Non-trainable params: 0\n",
            "_________________________________________________________________\n"
          ],
          "name": "stdout"
        }
      ]
    },
    {
      "cell_type": "markdown",
      "metadata": {
        "id": "MSlA5D_HSQdz"
      },
      "source": [
        "**Prediction using above model**"
      ]
    },
    {
      "cell_type": "code",
      "metadata": {
        "colab": {
          "base_uri": "https://localhost:8080/",
          "height": 241
        },
        "id": "G2bl5qzgSGE1",
        "outputId": "0ee2c98e-03e2-4fdf-c1b9-175b8235639f"
      },
      "source": [
        "load_img('/content/pic_15.jpg', target_size=(224,224))"
      ],
      "execution_count": 6,
      "outputs": [
        {
          "output_type": "execute_result",
          "data": {
            "image/png": "[encoded data removed]",
            "text/plain": [
              "<PIL.Image.Image image mode=RGB size=224x224 at 0x7FBF3C381CF8>"
            ]
          },
          "metadata": {
            "tags": []
          },
          "execution_count": 6
        }
      ]
    },
    {
      "cell_type": "code",
      "metadata": {
        "colab": {
          "base_uri": "https://localhost:8080/"
        },
        "id": "3nctELhbSGH8",
        "outputId": "9321d3f2-b750-4103-f1b8-7199f49a0c5e"
      },
      "source": [
        "imagesize = (224,224)\r\n",
        "image = load_img('/content/pic_15.jpg', target_size= imagesize)\r\n",
        "image = img_to_array(image)\r\n",
        "image = np.expand_dims(image, axis=0)\r\n",
        "image = preprocess_input(image)\r\n",
        "pred = model.predict(image)\r\n",
        "pred = imagenet_utils.decode_predictions(pred)\r\n",
        "Class = pred[0][0][1]\r\n",
        "Conf = pred[0][0][2]\r\n",
        "print(Class, \"With\", Conf, \"Confidence\")"
      ],
      "execution_count": 7,
      "outputs": [
        {
          "output_type": "stream",
          "text": [
            "Downloading data from https://storage.googleapis.com/download.tensorflow.org/data/imagenet_class_index.json\n",
            "40960/35363 [==================================] - 0s 0us/step\n",
            "trench_coat With 0.9237135 Confidence\n"
          ],
          "name": "stdout"
        }
      ]
    },
    {
      "cell_type": "markdown",
      "metadata": {
        "id": "_7dEc1xdS8Kr"
      },
      "source": [
        "***Building New Model***"
      ]
    },
    {
      "cell_type": "code",
      "metadata": {
        "id": "wc9Z3xRFSGLA"
      },
      "source": [
        "from sklearn.model_selection import train_test_split\r\n",
        "from sklearn.preprocessing import LabelEncoder\r\n",
        "from tensorflow.keras.utils import to_categorical\r\n",
        "from tensorflow.keras.models import Sequential, Model\r\n",
        "from tensorflow.keras.layers import Conv2D, Dropout, MaxPooling2D, Flatten, Dense, BatchNormalization, Input\r\n",
        "\r\n",
        "import pandas as pd\r\n",
        "import cv2"
      ],
      "execution_count": 8,
      "outputs": []
    },
    {
      "cell_type": "code",
      "metadata": {
        "colab": {
          "base_uri": "https://localhost:8080/"
        },
        "id": "_UI1fL00SGOE",
        "outputId": "234330f8-9747-45da-992e-6a28684b7d61"
      },
      "source": [
        "\r\n",
        "from google.colab import drive\r\n",
        "drive.mount('/content/drive') "
      ],
      "execution_count": 9,
      "outputs": [
        {
          "output_type": "stream",
          "text": [
            "Mounted at /content/drive\n"
          ],
          "name": "stdout"
        }
      ]
    },
    {
      "cell_type": "code",
      "metadata": {
        "colab": {
          "base_uri": "https://localhost:8080/"
        },
        "id": "flYcNx89SGRB",
        "outputId": "a0282244-4727-4175-e09e-7e106ea0a793"
      },
      "source": [
        "cd /content/drive/MyDrive/Text_Mercato_Assgn/Assgn"
      ],
      "execution_count": 10,
      "outputs": [
        {
          "output_type": "stream",
          "text": [
            "/content/drive/MyDrive/Text_Mercato_Assgn/Assgn\n"
          ],
          "name": "stdout"
        }
      ]
    },
    {
      "cell_type": "code",
      "metadata": {
        "colab": {
          "base_uri": "https://localhost:8080/",
          "height": 35
        },
        "id": "DQSOw3tUSGUG",
        "outputId": "caba0506-17c8-4996-c1db-280facbdfb11"
      },
      "source": [
        "pwd"
      ],
      "execution_count": 11,
      "outputs": [
        {
          "output_type": "execute_result",
          "data": {
            "application/vnd.google.colaboratory.intrinsic+json": {
              "type": "string"
            },
            "text/plain": [
              "'/content/drive/MyDrive/Text_Mercato_Assgn/Assgn'"
            ]
          },
          "metadata": {
            "tags": []
          },
          "execution_count": 11
        }
      ]
    },
    {
      "cell_type": "code",
      "metadata": {
        "colab": {
          "base_uri": "https://localhost:8080/",
          "height": 195
        },
        "id": "y2olsn_HSGXF",
        "outputId": "ba2d68bd-4191-48ae-f07a-4d66372b9563"
      },
      "source": [
        "df = pd.read_excel('dataset_1.xlsx')\r\n",
        "df.head()"
      ],
      "execution_count": 12,
      "outputs": [
        {
          "output_type": "execute_result",
          "data": {
            "text/html": [
              "<div>\n",
              "<style scoped>\n",
              "    .dataframe tbody tr th:only-of-type {\n",
              "        vertical-align: middle;\n",
              "    }\n",
              "\n",
              "    .dataframe tbody tr th {\n",
              "        vertical-align: top;\n",
              "    }\n",
              "\n",
              "    .dataframe thead th {\n",
              "        text-align: right;\n",
              "    }\n",
              "</style>\n",
              "<table border=\"1\" class=\"dataframe\">\n",
              "  <thead>\n",
              "    <tr style=\"text-align: right;\">\n",
              "      <th></th>\n",
              "      <th>Title</th>\n",
              "      <th>Description</th>\n",
              "      <th>Material</th>\n",
              "      <th>Pattern</th>\n",
              "      <th>Neckline</th>\n",
              "      <th>Image_Path</th>\n",
              "    </tr>\n",
              "  </thead>\n",
              "  <tbody>\n",
              "    <tr>\n",
              "      <th>0</th>\n",
              "      <td>Peach Poly Crepe jumpsuit</td>\n",
              "      <td>This stylish foil print kurta from janasya is ...</td>\n",
              "      <td>Crepe</td>\n",
              "      <td>Printed</td>\n",
              "      <td>Round Neck</td>\n",
              "      <td>/images/pic_0.jpg</td>\n",
              "    </tr>\n",
              "    <tr>\n",
              "      <th>1</th>\n",
              "      <td>Light Brown Bias Yoke Checks Top</td>\n",
              "      <td>This check pattern top by Work Label is crafte...</td>\n",
              "      <td>Cotton</td>\n",
              "      <td>Checks</td>\n",
              "      <td>Round Neck</td>\n",
              "      <td>/images/pic_1.jpg</td>\n",
              "    </tr>\n",
              "    <tr>\n",
              "      <th>2</th>\n",
              "      <td>Off White Geometric Straight Cotton Dobby Top ...</td>\n",
              "      <td>Featuring elegant printed details, this off wh...</td>\n",
              "      <td>Viscose</td>\n",
              "      <td>Checks</td>\n",
              "      <td>Round Neck</td>\n",
              "      <td>/images/pic_2.jpg</td>\n",
              "    </tr>\n",
              "    <tr>\n",
              "      <th>3</th>\n",
              "      <td>Blue Me Away Cape Top</td>\n",
              "      <td>Add an extra dose of style to your casual ward...</td>\n",
              "      <td>Polyester</td>\n",
              "      <td>Solid/Plain</td>\n",
              "      <td>V-Neck</td>\n",
              "      <td>/images/pic_3.jpg</td>\n",
              "    </tr>\n",
              "    <tr>\n",
              "      <th>4</th>\n",
              "      <td>Yellow On A High Gown</td>\n",
              "      <td>Yellow polyester georgette maxi dress. Polyest...</td>\n",
              "      <td>Polyester</td>\n",
              "      <td>Solid/Plain</td>\n",
              "      <td>V-Neck</td>\n",
              "      <td>/images/pic_4.jpg</td>\n",
              "    </tr>\n",
              "  </tbody>\n",
              "</table>\n",
              "</div>"
            ],
            "text/plain": [
              "                                               Title  ...         Image_Path\n",
              "0                          Peach Poly Crepe jumpsuit  ...  /images/pic_0.jpg\n",
              "1                   Light Brown Bias Yoke Checks Top  ...  /images/pic_1.jpg\n",
              "2  Off White Geometric Straight Cotton Dobby Top ...  ...  /images/pic_2.jpg\n",
              "3                              Blue Me Away Cape Top  ...  /images/pic_3.jpg\n",
              "4                              Yellow On A High Gown  ...  /images/pic_4.jpg\n",
              "\n",
              "[5 rows x 6 columns]"
            ]
          },
          "metadata": {
            "tags": []
          },
          "execution_count": 12
        }
      ]
    },
    {
      "cell_type": "code",
      "metadata": {
        "colab": {
          "base_uri": "https://localhost:8080/"
        },
        "id": "8vxlszHHSGaL",
        "outputId": "47aa89be-e132-45e7-aadc-de669a0189e5"
      },
      "source": [
        "df.info()"
      ],
      "execution_count": 13,
      "outputs": [
        {
          "output_type": "stream",
          "text": [
            "<class 'pandas.core.frame.DataFrame'>\n",
            "RangeIndex: 500 entries, 0 to 499\n",
            "Data columns (total 6 columns):\n",
            " #   Column       Non-Null Count  Dtype \n",
            "---  ------       --------------  ----- \n",
            " 0   Title        500 non-null    object\n",
            " 1   Description  500 non-null    object\n",
            " 2   Material     500 non-null    object\n",
            " 3   Pattern      500 non-null    object\n",
            " 4   Neckline     500 non-null    object\n",
            " 5   Image_Path   500 non-null    object\n",
            "dtypes: object(6)\n",
            "memory usage: 23.6+ KB\n"
          ],
          "name": "stdout"
        }
      ]
    },
    {
      "cell_type": "code",
      "metadata": {
        "colab": {
          "base_uri": "https://localhost:8080/"
        },
        "id": "OJRQTY49SGgJ",
        "outputId": "e6830e3e-a184-4e71-803d-9a32c1fd0b0e"
      },
      "source": [
        "print('Total Number of Unique value in Material Column:',df.Material.nunique())\r\n",
        "print('Total Number of Unique value in Pattern Column:',df.Pattern.nunique())\r\n",
        "print('Total Number of Unique value in Neckline Column:', df.Neckline.nunique())"
      ],
      "execution_count": 14,
      "outputs": [
        {
          "output_type": "stream",
          "text": [
            "Total Number of Unique value in Material Column: 30\n",
            "Total Number of Unique value in Pattern Column: 18\n",
            "Total Number of Unique value in Neckline Column: 22\n"
          ],
          "name": "stdout"
        }
      ]
    },
    {
      "cell_type": "code",
      "metadata": {
        "colab": {
          "base_uri": "https://localhost:8080/"
        },
        "id": "LARGfahkps_B",
        "outputId": "0684c8e7-39a5-428d-f9d7-a547d2b01320"
      },
      "source": [
        "#Unique values in materials\r\n",
        "Materials = np.array(sorted(list(df.Material.unique())))\r\n",
        "Materials"
      ],
      "execution_count": 15,
      "outputs": [
        {
          "output_type": "execute_result",
          "data": {
            "text/plain": [
              "array(['Blended Fabric', 'Chiffon', 'Cotton', 'Crepe', 'Crinkled',\n",
              "       'Denim', 'Georgette', 'Khadi', 'Knitted', 'Lace', 'Leather',\n",
              "       'Linen', 'Lyocell', 'Modal', 'Net', 'Nylon', 'Organic', 'Organza',\n",
              "       'Polyamide', 'Polycotton', 'Polyester', 'Poplin', 'Rayon', 'Satin',\n",
              "       'Sequin', 'Silk', 'Suede', 'Velvet', 'Viscose', 'Wool'],\n",
              "      dtype='<U14')"
            ]
          },
          "metadata": {
            "tags": []
          },
          "execution_count": 15
        }
      ]
    },
    {
      "cell_type": "code",
      "metadata": {
        "colab": {
          "base_uri": "https://localhost:8080/"
        },
        "id": "YkXog5xmptEM",
        "outputId": "3b5c3f89-a9b1-4c07-d67d-e080afa3c78e"
      },
      "source": [
        "#unique values in pattern\r\n",
        "Patterns = np.array(sorted(list(df.Pattern.unique())))\r\n",
        "Patterns"
      ],
      "execution_count": 16,
      "outputs": [
        {
          "output_type": "execute_result",
          "data": {
            "text/plain": [
              "array(['Animal Print', 'Checks', 'Detailing', 'Embellished/Sequined',\n",
              "       'Embroidered', 'Floral', 'Geometric', 'Mirror Work', 'Ombre',\n",
              "       'Patterned', 'Plaid', 'Pleated', 'Polka Dots', 'Printed',\n",
              "       'Ruffled', 'Solid/Plain', 'Stripes', 'Tie & Dye'], dtype='<U20')"
            ]
          },
          "metadata": {
            "tags": []
          },
          "execution_count": 16
        }
      ]
    },
    {
      "cell_type": "code",
      "metadata": {
        "colab": {
          "base_uri": "https://localhost:8080/"
        },
        "id": "k7Yz8Wn2ptHS",
        "outputId": "0513a3b8-b3b1-4311-a526-6be49dd1c3e9"
      },
      "source": [
        "#unique values in neckline\r\n",
        "Necklines = np.array(sorted(list(df.Neckline.unique())))\r\n",
        "Necklines\r\n"
      ],
      "execution_count": 17,
      "outputs": [
        {
          "output_type": "execute_result",
          "data": {
            "text/plain": [
              "array(['Boat Neck', 'Cold Shoulder', 'Collar Neck', 'Cowl Neck',\n",
              "       'Crew Neck', 'Halter Neck', 'High Neck', 'Hooded', 'Keyhole Neck',\n",
              "       'Mandarin Neck', 'Off Shoulder', 'One Shoulder', 'Plunging Neck',\n",
              "       'Queen Anne', 'Round Neck', 'Ruffled Neck', 'Scoop Neck',\n",
              "       'Shoulder Straps', 'Square Neck', 'Strapless/Tube', 'Sweetheart',\n",
              "       'V-Neck'], dtype='<U15')"
            ]
          },
          "metadata": {
            "tags": []
          },
          "execution_count": 17
        }
      ]
    },
    {
      "cell_type": "code",
      "metadata": {
        "id": "5JgdXhZ1ptKM"
      },
      "source": [
        "#Getting seperated variables\r\n",
        "data = list(df['Image_Path'])\r\n",
        "label_Material = df[\"Material\"]\r\n",
        "label_Pattern = df[\"Pattern\"]\r\n",
        "label_Neckline = df[\"Neckline\"]"
      ],
      "execution_count": 18,
      "outputs": []
    },
    {
      "cell_type": "code",
      "metadata": {
        "id": "xthp9uwZptNX"
      },
      "source": [
        "#Train dataset contains image arrays of all images\r\n",
        "train = []\r\n",
        "for imagePath in data:\r\n",
        "  image = cv2.imread(\".\"+imagePath)\r\n",
        "  image = cv2.resize(image, (224,224))\r\n",
        "  image = img_to_array(image)\r\n",
        "  train.append(image)"
      ],
      "execution_count": 19,
      "outputs": []
    },
    {
      "cell_type": "code",
      "metadata": {
        "id": "lRCZcQ7tptQZ"
      },
      "source": [
        "Data = np.array(train)\r\n",
        "label_Material = np.array(label_Material)"
      ],
      "execution_count": 20,
      "outputs": []
    },
    {
      "cell_type": "code",
      "metadata": {
        "colab": {
          "base_uri": "https://localhost:8080/"
        },
        "id": "hFWNbmd5qFd0",
        "outputId": "a6d386b6-186a-4587-9a9c-165fbb14edba"
      },
      "source": [
        "len(label_Material), len(Data)"
      ],
      "execution_count": 21,
      "outputs": [
        {
          "output_type": "execute_result",
          "data": {
            "text/plain": [
              "(500, 500)"
            ]
          },
          "metadata": {
            "tags": []
          },
          "execution_count": 21
        }
      ]
    },
    {
      "cell_type": "markdown",
      "metadata": {
        "id": "NkRL_GteqmIK"
      },
      "source": [
        "***Model training for material prediction***"
      ]
    },
    {
      "cell_type": "code",
      "metadata": {
        "id": "flekYbHSqFhM"
      },
      "source": [
        "## Convert the labels to the machine understandable form\r\n",
        "lb = LabelEncoder()\r\n",
        "Label_Material = lb.fit_transform(label_Material)\r\n",
        "Label_Materials = to_categorical(Label_Material)"
      ],
      "execution_count": 22,
      "outputs": []
    },
    {
      "cell_type": "code",
      "metadata": {
        "id": "XbfKcCknqFj5"
      },
      "source": [
        "#getting train as well as validation set \r\n",
        "X_train, X_test, y_train, y_test = train_test_split(Data, Label_Materials, test_size=0.25 )"
      ],
      "execution_count": 23,
      "outputs": []
    },
    {
      "cell_type": "markdown",
      "metadata": {
        "id": "QpyDPorCrxsw"
      },
      "source": [
        "**Image Generator allows to randmly transform the set of images such that it can be rotated by any angle from 0 to 360 degrees.**"
      ]
    },
    {
      "cell_type": "code",
      "metadata": {
        "id": "CY9-vMhFqFmq"
      },
      "source": [
        "imageGen = ImageDataGenerator(rotation_range=30, height_shift_range=0.1, horizontal_flip=True, vertical_flip=True, fill_mode='nearest', width_shift_range=0.1)"
      ],
      "execution_count": 24,
      "outputs": []
    },
    {
      "cell_type": "markdown",
      "metadata": {
        "id": "od4NBZkYq9gA"
      },
      "source": [
        "**Sequential Model**"
      ]
    },
    {
      "cell_type": "code",
      "metadata": {
        "id": "XzuFtmcwq4hR"
      },
      "source": [
        "\r\n",
        "model = Sequential()"
      ],
      "execution_count": 25,
      "outputs": []
    },
    {
      "cell_type": "code",
      "metadata": {
        "id": "IX42XP_Wq5Bn"
      },
      "source": [
        "model.add(BatchNormalization())\r\n",
        "model.add(MaxPooling2D((2,2)))\r\n",
        "\r\n",
        "\r\n",
        "model.add(Conv2D(50, (5,5), activation='relu'))\r\n",
        "model.add(BatchNormalization())\r\n",
        "model.add(MaxPooling2D((2,2)))\r\n",
        "\r\n",
        "model.add(Conv2D(500, (5,5), activation='relu'))\r\n",
        "model.add(BatchNormalization())\r\n",
        "model.add(MaxPooling2D((2,2)))\r\n",
        "\r\n",
        "model.add(Flatten())\r\n",
        "model.add(Dense(1024, activation='relu'))\r\n",
        "model.add(Dropout(0.5))\r\n",
        "\r\n",
        "##Outputlayer\r\n",
        "model.add(Dense(30, activation='softmax'))\r\n",
        "\r\n",
        "model.compile(loss='categorical_crossentropy', optimizer='adam', metrics=['accuracy'])"
      ],
      "execution_count": 26,
      "outputs": []
    },
    {
      "cell_type": "code",
      "metadata": {
        "colab": {
          "base_uri": "https://localhost:8080/"
        },
        "id": "C7gXb2cjq5Ee",
        "outputId": "e8481b64-84cd-4e32-d9a3-15dcaa1dccf8"
      },
      "source": [
        "#training on 50 epochs\r\n",
        "model.fit(imageGen.flow(X_train, y_train, batch_size=32), validation_data=(X_test, y_test), epochs=50)"
      ],
      "execution_count": null,
      "outputs": [
        {
          "output_type": "stream",
          "text": [
            "Epoch 1/50\n",
            "12/12 [==============================] - 130s 11s/step - loss: 159.6027 - accuracy: 0.1759 - val_loss: 1259.4773 - val_accuracy: 0.1520\n",
            "Epoch 2/50\n",
            "12/12 [==============================] - 126s 11s/step - loss: 245.9198 - accuracy: 0.2116 - val_loss: 1656.8583 - val_accuracy: 0.1040\n",
            "Epoch 3/50\n",
            "12/12 [==============================] - 126s 11s/step - loss: 218.8645 - accuracy: 0.2146 - val_loss: 925.6569 - val_accuracy: 0.2320\n",
            "Epoch 4/50\n",
            "12/12 [==============================] - 126s 10s/step - loss: 171.6804 - accuracy: 0.2521 - val_loss: 706.1562 - val_accuracy: 0.1440\n",
            "Epoch 5/50\n",
            "12/12 [==============================] - 126s 10s/step - loss: 145.2501 - accuracy: 0.2673 - val_loss: 448.7904 - val_accuracy: 0.2240\n",
            "Epoch 6/50\n",
            "12/12 [==============================] - 125s 10s/step - loss: 120.1257 - accuracy: 0.2065 - val_loss: 469.3510 - val_accuracy: 0.0800\n",
            "Epoch 7/50\n",
            "12/12 [==============================] - 125s 10s/step - loss: 75.6932 - accuracy: 0.2214 - val_loss: 274.5308 - val_accuracy: 0.2080\n",
            "Epoch 8/50\n",
            "12/12 [==============================] - 125s 10s/step - loss: 57.5168 - accuracy: 0.2289 - val_loss: 273.2244 - val_accuracy: 0.2720\n",
            "Epoch 9/50\n",
            "12/12 [==============================] - 125s 10s/step - loss: 64.8126 - accuracy: 0.1593 - val_loss: 205.8136 - val_accuracy: 0.2640\n",
            "Epoch 10/50\n",
            "12/12 [==============================] - 125s 10s/step - loss: 34.2890 - accuracy: 0.2802 - val_loss: 208.0596 - val_accuracy: 0.1120\n",
            "Epoch 11/50\n",
            "12/12 [==============================] - 125s 10s/step - loss: 36.1593 - accuracy: 0.2432 - val_loss: 152.4834 - val_accuracy: 0.1440\n",
            "Epoch 12/50\n",
            "12/12 [==============================] - 124s 10s/step - loss: 37.9304 - accuracy: 0.1822 - val_loss: 124.7897 - val_accuracy: 0.1600\n",
            "Epoch 13/50\n",
            "12/12 [==============================] - 124s 10s/step - loss: 31.4880 - accuracy: 0.2214 - val_loss: 150.7374 - val_accuracy: 0.1360\n",
            "Epoch 14/50\n",
            "12/12 [==============================] - 124s 10s/step - loss: 32.2815 - accuracy: 0.2121 - val_loss: 144.3952 - val_accuracy: 0.1920\n",
            "Epoch 15/50\n",
            "12/12 [==============================] - 124s 10s/step - loss: 30.8777 - accuracy: 0.2276 - val_loss: 107.5032 - val_accuracy: 0.2400\n",
            "Epoch 16/50\n",
            "12/12 [==============================] - 124s 10s/step - loss: 17.1421 - accuracy: 0.2481 - val_loss: 89.4762 - val_accuracy: 0.1920\n",
            "Epoch 17/50\n",
            "12/12 [==============================] - 124s 10s/step - loss: 25.0208 - accuracy: 0.2717 - val_loss: 66.8912 - val_accuracy: 0.2320\n",
            "Epoch 18/50\n",
            "12/12 [==============================] - 125s 10s/step - loss: 17.3054 - accuracy: 0.2543 - val_loss: 82.7597 - val_accuracy: 0.2080\n",
            "Epoch 19/50\n",
            " 6/12 [==============>...............] - ETA: 56s - loss: 32.7570 - accuracy: 0.2684 "
          ],
          "name": "stdout"
        }
      ]
    },
    {
      "cell_type": "markdown",
      "metadata": {
        "id": "1Vg9hsj-0GIj"
      },
      "source": [
        "***Using Transfer Learning and remodelling to VGG19 Model***"
      ]
    },
    {
      "cell_type": "code",
      "metadata": {
        "id": "mNJOFTQdqFpN"
      },
      "source": [
        "## Convert the images into the array\r\n",
        "Train = []\r\n",
        "for imagePath in data:\r\n",
        "  image = load_img(\".\"+ imagePath, target_size=(224,224))\r\n",
        "  image = img_to_array(image)\r\n",
        "  image = preprocess_input(image)\r\n",
        "  Train.append(image)"
      ],
      "execution_count": null,
      "outputs": []
    },
    {
      "cell_type": "code",
      "metadata": {
        "id": "iZ5xfkpy0R9v"
      },
      "source": [
        "Image_data = np.array(Train)"
      ],
      "execution_count": null,
      "outputs": []
    },
    {
      "cell_type": "code",
      "metadata": {
        "id": "xtT8UAO90SVz"
      },
      "source": [
        "\r\n",
        "generator = ImageDataGenerator(rotation_range=30, height_shift_range=0.1, horizontal_flip=True, vertical_flip=True, fill_mode='nearest', width_shift_range=0.1)"
      ],
      "execution_count": null,
      "outputs": []
    },
    {
      "cell_type": "code",
      "metadata": {
        "id": "RD6x6trc0SZG"
      },
      "source": [
        "X_train, X_test, y_train, y_test = train_test_split(Image_data, Label_Materials, test_size=0.25 )"
      ],
      "execution_count": null,
      "outputs": []
    },
    {
      "cell_type": "code",
      "metadata": {
        "id": "K0szlKO50ScY"
      },
      "source": [
        "### build model using transfer learning with VGG19 dataset\r\n",
        "\r\n",
        "basemodel = VGG19(weights='imagenet', include_top=False, input_tensor=(Input(shape=(224,224,3))))"
      ],
      "execution_count": null,
      "outputs": []
    },
    {
      "cell_type": "code",
      "metadata": {
        "id": "6L0unp0U0Sfr"
      },
      "source": [
        "basemodel.summary()"
      ],
      "execution_count": null,
      "outputs": []
    },
    {
      "cell_type": "code",
      "metadata": {
        "id": "EQlAvL_S0SjM"
      },
      "source": [
        "## Functional API\r\n",
        "headmodel = basemodel.output    ## it will returns the last layer of our basemodel\r\n",
        "headmodel = Flatten()(headmodel)\r\n",
        "headmodel = Dense(1024, activation='relu')(headmodel) \r\n",
        "headmodel = Dropout(0.5)(headmodel)\r\n",
        "headmodel = Dense(30, activation='softmax')(headmodel)"
      ],
      "execution_count": null,
      "outputs": []
    },
    {
      "cell_type": "code",
      "metadata": {
        "id": "lc6absQJ0Sm4"
      },
      "source": [
        "material_model = Model(inputs= basemodel.input, outputs= headmodel)"
      ],
      "execution_count": null,
      "outputs": []
    },
    {
      "cell_type": "code",
      "metadata": {
        "id": "PN0oiAsH0Sqi"
      },
      "source": [
        "\r\n",
        "## We don't want to train our pretrained basemodel VGG19 \r\n",
        "for layers in basemodel.layers:  \r\n",
        "  layers.trainable = False"
      ],
      "execution_count": null,
      "outputs": []
    },
    {
      "cell_type": "code",
      "metadata": {
        "id": "92QvBD2T0Sth"
      },
      "source": [
        "material_model.compile(optimizer='adam', loss='categorical_crossentropy', metrics=['accuracy'])\r\n",
        "print('Model is gong to train..........')\r\n",
        "PMaterial = material_model.fit_generator(generator.flow(Image_data, Label_Materials, batch_size=32), epochs=100)"
      ],
      "execution_count": null,
      "outputs": []
    },
    {
      "cell_type": "code",
      "metadata": {
        "id": "OHXkumNn0Swh"
      },
      "source": [
        "##Lets predict\r\n",
        "image = load_img('./images/pic_2.jpg', target_size=(224,224))\r\n",
        "image = img_to_array(image)\r\n",
        "image = np.expand_dims(image, axis=0)\r\n",
        "image = preprocess_input(image)\r\n",
        "\r\n",
        "## lets make some prediction on images\r\n",
        "pred = material_model.predict(image)\r\n",
        "pred"
      ],
      "execution_count": null,
      "outputs": []
    },
    {
      "cell_type": "code",
      "metadata": {
        "id": "HYzwdqHY06ox"
      },
      "source": [
        "## Predicted class\r\n",
        "pred_mat = np.argmax(pred)\r\n",
        "ypred = Materials[pred_mat]\r\n",
        "\r\n",
        "## Actual Class\r\n",
        "actual = df[df['Image_Path'] == '/images/pic_2.jpg']\r\n",
        "yactual = actual.Material.values\r\n",
        "\r\n",
        "print(f'Our model predict {ypred} pattern.... and the real class is {yactual}')"
      ],
      "execution_count": null,
      "outputs": []
    },
    {
      "cell_type": "code",
      "metadata": {
        "id": "RjwNqds_06s-"
      },
      "source": [
        "##Lets predict for another image\r\n",
        "image = load_img('./images/pic_49.jpg', target_size=(224,224))\r\n",
        "image = img_to_array(image)\r\n",
        "image = np.expand_dims(image, axis=0)\r\n",
        "image = preprocess_input(image)\r\n",
        "\r\n",
        "## lets make some prediction on images\r\n",
        "pred = material_model.predict(image)\r\n",
        "pred\r\n"
      ],
      "execution_count": null,
      "outputs": []
    },
    {
      "cell_type": "code",
      "metadata": {
        "id": "OQAsIF9_06vp"
      },
      "source": [
        "\r\n",
        "## Predicted class\r\n",
        "pred_mat = np.argmax(pred)\r\n",
        "ypred = Materials[pred_mat]\r\n",
        "\r\n",
        "## Actual Class\r\n",
        "actual = df[df['Image_Path'] == '/images/pic_49.jpg']\r\n",
        "yactual = actual.Material.values\r\n",
        "\r\n",
        "print(f'Our model predict {ypred} pattern.... and the real class is {yactual}')"
      ],
      "execution_count": null,
      "outputs": []
    },
    {
      "cell_type": "code",
      "metadata": {
        "id": "D8JUDC0206zn"
      },
      "source": [
        "## Save the material model\r\n",
        "material_model.save('Material_model.h5')"
      ],
      "execution_count": null,
      "outputs": []
    },
    {
      "cell_type": "code",
      "metadata": {
        "id": "eJ3FgUb6062a"
      },
      "source": [
        "\r\n",
        "## Convert the labels to the machine understandable form\r\n",
        "lb = LabelEncoder()\r\n",
        "Label_Pattern = lb.fit_transform(label_Pattern)\r\n",
        "Label_Patterns = to_categorical(Label_Pattern)"
      ],
      "execution_count": null,
      "outputs": []
    },
    {
      "cell_type": "code",
      "metadata": {
        "id": "Nw82pKpJ0-oC"
      },
      "source": [
        "\r\n",
        "len(Label_Patterns[0])"
      ],
      "execution_count": null,
      "outputs": []
    },
    {
      "cell_type": "code",
      "metadata": {
        "id": "7mIGAZa90-su"
      },
      "source": [
        "#generator function\r\n",
        "generator = ImageDataGenerator(rotation_range=30, height_shift_range=0.1, horizontal_flip=True, vertical_flip=True, fill_mode='nearest', width_shift_range=0.1)\r\n"
      ],
      "execution_count": null,
      "outputs": []
    },
    {
      "cell_type": "code",
      "metadata": {
        "id": "PULg3sRs1PRG"
      },
      "source": [
        "### build model using transfer learning with VGG19 dataset\r\n",
        "\r\n",
        "basemodel = VGG19(weights='imagenet', include_top=False, input_tensor=(Input(shape=(224,224,3))))"
      ],
      "execution_count": null,
      "outputs": []
    },
    {
      "cell_type": "code",
      "metadata": {
        "id": "9w6uzYbX1PUO"
      },
      "source": [
        "headmodel = basemodel.output    ## it will returns the last layer of our basemodel\r\n",
        "headmodel = Flatten()(headmodel)\r\n",
        "headmodel = Dense(1024, activation='relu')(headmodel) \r\n",
        "headmodel = Dropout(0.5)(headmodel)\r\n",
        "headmodel = Dense(18, activation='softmax')(headmodel)\r\n",
        "\r\n",
        "## Combine basemodel and headmodel in a single model\r\n",
        "pattern_model = Model(inputs= basemodel.input, outputs= headmodel)"
      ],
      "execution_count": null,
      "outputs": []
    },
    {
      "cell_type": "code",
      "metadata": {
        "id": "8mZckhO61PXa"
      },
      "source": [
        "## We don't want to train our pretrained basemodel VGG19 \r\n",
        "for layers in basemodel.layers:  \r\n",
        "  layers.trainable = False"
      ],
      "execution_count": null,
      "outputs": []
    },
    {
      "cell_type": "code",
      "metadata": {
        "id": "_mSivQux1Pai"
      },
      "source": [
        "pattern_model.compile(optimizer='adam', loss='categorical_crossentropy', metrics=['accuracy'])\r\n",
        "print('Model is gong to train..........')\r\n",
        "PPatterns = pattern_model.fit_generator(generator.flow(X_train, y_train, batch_size=32), validation_data=(X_test, y_test), epochs=100)"
      ],
      "execution_count": null,
      "outputs": []
    },
    {
      "cell_type": "code",
      "metadata": {
        "id": "Dy-rxhsv1Pdx"
      },
      "source": [
        "pattern_model.compile(optimizer='adam', loss='categorical_crossentropy', metrics=['accuracy'])\r\n",
        "print('Model is gong to train..........')\r\n",
        "PPattern = pattern_model.fit_generator(generator.flow(Image_data, Label_Patterns, batch_size=32), epochs=100)"
      ],
      "execution_count": null,
      "outputs": []
    },
    {
      "cell_type": "code",
      "metadata": {
        "id": "4XK_j9JK1Pgk"
      },
      "source": [
        "## Check the prediction\r\n",
        "\r\n",
        "image = load_img('./images/pic_99.jpg', target_size=(224,224))\r\n",
        "image = img_to_array(image)\r\n",
        "image = np.expand_dims(image, axis=0)\r\n",
        "image = preprocess_input(image)\r\n",
        "\r\n",
        "## lets make some prediction on images\r\n",
        "pred = pattern_model.predict(image)\r\n",
        "pred"
      ],
      "execution_count": null,
      "outputs": []
    },
    {
      "cell_type": "code",
      "metadata": {
        "id": "_nJ6ZBF41Pji"
      },
      "source": [
        "## Predicted class\r\n",
        "pred_pat = np.argmax(pred)\r\n",
        "ypred = Patterns[pred_pat]\r\n",
        "\r\n",
        "## Actual class\r\n",
        "actual = df[df['Image_Path'] == '/images/pic_99.jpg']\r\n",
        "yactual = actual['Pattern'].values\r\n",
        "\r\n",
        "print(f'Our model predict {ypred} pattern.... and the real class is {yactual}')"
      ],
      "execution_count": null,
      "outputs": []
    },
    {
      "cell_type": "code",
      "metadata": {
        "id": "c96C9Sf_0-wM"
      },
      "source": [
        "## Check the prediction\r\n",
        "\r\n",
        "image = load_img('./images/pic_39.jpg', target_size=(224,224))\r\n",
        "image = img_to_array(image)\r\n",
        "image = np.expand_dims(image, axis=0)\r\n",
        "image = preprocess_input(image)\r\n",
        "\r\n",
        "## lets make some prediction on images\r\n",
        "pred = pattern_model.predict(image)\r\n",
        "pred"
      ],
      "execution_count": null,
      "outputs": []
    },
    {
      "cell_type": "code",
      "metadata": {
        "id": "A943qr872DyN"
      },
      "source": [
        "## Predicted class\r\n",
        "pred_pat = np.argmax(pred)\r\n",
        "ypred = Patterns[pred_pat]\r\n",
        "\r\n",
        "## Actual class\r\n",
        "actual = df[df['Image_Path'] == '/images/pic_39.jpg']\r\n",
        "yactual = actual['Pattern'].values\r\n",
        "\r\n",
        "print(f'Our model predict {ypred} pattern.... and the real class is {yactual}')"
      ],
      "execution_count": null,
      "outputs": []
    },
    {
      "cell_type": "code",
      "metadata": {
        "id": "pXJYz8UF2D1W"
      },
      "source": [
        "## Save the model\r\n",
        "pattern_model.save('Pattern_model.h5')"
      ],
      "execution_count": null,
      "outputs": []
    },
    {
      "cell_type": "code",
      "metadata": {
        "id": "UuADIaQF2D4Y"
      },
      "source": [
        "\r\n",
        "## Convert the labels to the machine understandable form\r\n",
        "lb = LabelEncoder()\r\n",
        "Label_Neckline = lb.fit_transform(label_Neckline)\r\n",
        "Label_Necklines = to_categorical(Label_Neckline)"
      ],
      "execution_count": null,
      "outputs": []
    },
    {
      "cell_type": "code",
      "metadata": {
        "id": "qC28a4Hg2D7X"
      },
      "source": [
        "len(Label_Necklines[0])"
      ],
      "execution_count": null,
      "outputs": []
    },
    {
      "cell_type": "code",
      "metadata": {
        "id": "hNHrj-vs2RYR"
      },
      "source": [
        "generator = ImageDataGenerator(rotation_range=30, height_shift_range=0.1, horizontal_flip=True, vertical_flip=True, fill_mode='nearest', width_shift_range=0.1)"
      ],
      "execution_count": null,
      "outputs": []
    },
    {
      "cell_type": "code",
      "metadata": {
        "id": "f2pyS6Z72Rba"
      },
      "source": [
        "### build model using transfer learning with VGG19 dataset\r\n",
        "\r\n",
        "basemodel = VGG19(weights='imagenet', include_top=False, input_tensor=(Input(shape=(224,224,3))))"
      ],
      "execution_count": null,
      "outputs": []
    },
    {
      "cell_type": "code",
      "metadata": {
        "id": "pCHedu9-2Red"
      },
      "source": [
        "headmodel = basemodel.output    ## it will returns the last layer of our basemodel\r\n",
        "headmodel = Flatten()(headmodel)\r\n",
        "headmodel = Dense(1024, activation='relu')(headmodel) \r\n",
        "headmodel = Dropout(0.5)(headmodel)\r\n",
        "headmodel = Dense(22, activation='softmax')(headmodel)\r\n",
        "\r\n",
        "## Combine basemodel and headmodel in a single model\r\n",
        "neckline_model = Model(inputs= basemodel.input, outputs= headmodel)"
      ],
      "execution_count": null,
      "outputs": []
    },
    {
      "cell_type": "code",
      "metadata": {
        "id": "_2I2AI-_2Rh3"
      },
      "source": [
        "## We don't want to train our pretrained basemodel VGG19 \r\n",
        "for layers in basemodel.layers:  \r\n",
        "  layers.trainable = False"
      ],
      "execution_count": null,
      "outputs": []
    },
    {
      "cell_type": "code",
      "metadata": {
        "id": "-cSTT3sl2RlF"
      },
      "source": [
        "neckline_model.compile(optimizer='adam', loss='categorical_crossentropy', metrics=['accuracy'])\r\n",
        "print('Model is gong to train..........')\r\n",
        "PNeckline = neckline_model.fit_generator(generator.flow(Image_data, Label_Necklines, batch_size=32), epochs=100)"
      ],
      "execution_count": null,
      "outputs": []
    },
    {
      "cell_type": "code",
      "metadata": {
        "id": "zdHT0sYP2Ro6"
      },
      "source": [
        "## Check the prediction\r\n",
        "\r\n",
        "image = load_img('./images/pic_95.jpg', target_size=(224,224))\r\n",
        "image = img_to_array(image)\r\n",
        "image = np.expand_dims(image, axis=0)\r\n",
        "image = preprocess_input(image)\r\n",
        "\r\n",
        "## lets make some prediction on images\r\n",
        "pred = neckline_model.predict(image)\r\n",
        "pred"
      ],
      "execution_count": null,
      "outputs": []
    },
    {
      "cell_type": "code",
      "metadata": {
        "id": "tk03grYk2RsH"
      },
      "source": [
        "## Predicted class\r\n",
        "pred_pat = np.argmax(pred)\r\n",
        "ypred = Necklines[pred_pat]\r\n",
        "\r\n",
        "## Actual class\r\n",
        "actual = df[df['Image_Path'] == '/images/pic_95.jpg']\r\n",
        "yactual = actual['Neckline'].values\r\n",
        "\r\n",
        "print(f'Our model predict {ypred} pattern.... and the real class is {yactual}')"
      ],
      "execution_count": null,
      "outputs": []
    },
    {
      "cell_type": "code",
      "metadata": {
        "id": "osqg8JpU2Rvk"
      },
      "source": [
        "## Check the prediction for one more image\r\n",
        "\r\n",
        "image = load_img('./images/pic_34.jpg', target_size=(224,224))\r\n",
        "image = img_to_array(image)\r\n",
        "image = np.expand_dims(image, axis=0)\r\n",
        "image = preprocess_input(image)\r\n",
        "\r\n",
        "## lets make some prediction on images\r\n",
        "pred = neckline_model.predict(image)\r\n",
        "pred"
      ],
      "execution_count": null,
      "outputs": []
    },
    {
      "cell_type": "code",
      "metadata": {
        "id": "_naML-7s2R0K"
      },
      "source": [
        "## Predicted class\r\n",
        "pred_pat = np.argmax(pred)\r\n",
        "ypred = Necklines[pred_pat]\r\n",
        "\r\n",
        "## Actual class\r\n",
        "actual = df[df['Image_Path'] == '/images/pic_34.jpg']\r\n",
        "yactual = actual['Neckline'].values\r\n",
        "\r\n",
        "print(f'Our model predict {ypred} pattern.... and the real class is {yactual}')"
      ],
      "execution_count": null,
      "outputs": []
    },
    {
      "cell_type": "code",
      "metadata": {
        "id": "eqVJkE9w2tNU"
      },
      "source": [
        "\r\n",
        "## Save the model\r\n",
        "neckline_model.save('Neckline_model.h5')"
      ],
      "execution_count": null,
      "outputs": []
    },
    {
      "cell_type": "code",
      "metadata": {
        "id": "tUpKWvbk2tQn"
      },
      "source": [
        "image = load_img('test_img.jpg', target_size=(224,224))\r\n",
        "image"
      ],
      "execution_count": null,
      "outputs": []
    },
    {
      "cell_type": "code",
      "metadata": {
        "id": "DuAyHWce2tT-"
      },
      "source": [
        "## convert the image in machine readable format\r\n",
        "image = load_img('test_img.jpg', target_size=(224,224))\r\n",
        "image = img_to_array(image)\r\n",
        "image = np.expand_dims(image, axis=0)\r\n",
        "image = preprocess_input(image)"
      ],
      "execution_count": null,
      "outputs": []
    },
    {
      "cell_type": "code",
      "metadata": {
        "id": "2pI8e1aO2tXS"
      },
      "source": [
        "## lets make some prediction on images\r\n",
        "pred_mat = material_model.predict(image)\r\n",
        "pred_pat = pattern_model.predict(image)\r\n",
        "pred_nec = neckline_model.predict(image)\r\n",
        "\r\n",
        "\r\n",
        "## Predicted class for material\r\n",
        "pred_Mat = np.argmax(pred_mat)\r\n",
        "pred_Mat = Materials[pred_Mat]\r\n",
        "## predicted class for Pattern\r\n",
        "pred_Pat = np.argmax(pred_pat)\r\n",
        "pred_Pat = Patterns[pred_Pat]\r\n",
        "## Predicted class for Neckline\r\n",
        "pred_Nec = np.argmax(pred_nec)\r\n",
        "pred_Nec = Necklines[pred_Nec]"
      ],
      "execution_count": null,
      "outputs": []
    },
    {
      "cell_type": "code",
      "metadata": {
        "id": "LFYqtZkr2taS"
      },
      "source": [
        "print(f\"Therefore, the Material, Pattern and Necline for the above downloaded image is: {pred_Mat} {pred_Pat} {pred_Nec}\")"
      ],
      "execution_count": null,
      "outputs": []
    },
    {
      "cell_type": "code",
      "metadata": {
        "id": "YZp_bX9u2D-h"
      },
      "source": [
        "\r\n",
        "image = load_img('test_img2.jpg', target_size=(224,224))\r\n",
        "image"
      ],
      "execution_count": null,
      "outputs": []
    },
    {
      "cell_type": "code",
      "metadata": {
        "id": "Djt5FHiU0-zj"
      },
      "source": [
        "\r\n",
        "## convert the image in machine readable format\r\n",
        "image = load_img('test_img2.jpg', target_size=(224,224))\r\n",
        "image = img_to_array(image)\r\n",
        "image = np.expand_dims(image, axis=0)\r\n",
        "image = preprocess_input(image)"
      ],
      "execution_count": null,
      "outputs": []
    },
    {
      "cell_type": "code",
      "metadata": {
        "id": "rWDyKPy-0-3h"
      },
      "source": [
        "## lets make some prediction on images\r\n",
        "pred_mat = material_model.predict(image)\r\n",
        "pred_pat = pattern_model.predict(image)\r\n",
        "pred_nec = neckline_model.predict(image)\r\n",
        "\r\n",
        "\r\n",
        "## Predicted class for material\r\n",
        "pred_Mat = np.argmax(pred_mat)\r\n",
        "pred_Mat = Materials[pred_Mat]\r\n",
        "## predicted class for Pattern\r\n",
        "pred_Pat = np.argmax(pred_pat)\r\n",
        "pred_Pat = Patterns[pred_Pat]\r\n",
        "## Predicted class for Neckline\r\n",
        "pred_Nec = np.argmax(pred_nec)\r\n",
        "pred_Nec = Necklines[pred_Nec]"
      ],
      "execution_count": null,
      "outputs": []
    },
    {
      "cell_type": "code",
      "metadata": {
        "id": "jo7srZKP3Gax"
      },
      "source": [
        "\r\n",
        "print(f\"Therefore, the Material, Pattern and Necline for the above downloaded image is: {pred_Mat} {pred_Pat} {pred_Nec}\")"
      ],
      "execution_count": null,
      "outputs": []
    },
    {
      "cell_type": "code",
      "metadata": {
        "id": "vZSuqfgd3Gec"
      },
      "source": [
        ""
      ],
      "execution_count": null,
      "outputs": []
    },
    {
      "cell_type": "code",
      "metadata": {
        "id": "FxkTE8XN3GhU"
      },
      "source": [
        ""
      ],
      "execution_count": null,
      "outputs": []
    },
    {
      "cell_type": "code",
      "metadata": {
        "id": "FSUHTXB53Gk_"
      },
      "source": [
        ""
      ],
      "execution_count": null,
      "outputs": []
    },
    {
      "cell_type": "code",
      "metadata": {
        "id": "0d_GoSyo2tmM"
      },
      "source": [
        ""
      ],
      "execution_count": null,
      "outputs": []
    },
    {
      "cell_type": "code",
      "metadata": {
        "id": "VZMhI5gx2tpr"
      },
      "source": [
        ""
      ],
      "execution_count": null,
      "outputs": []
    }
  ]
}